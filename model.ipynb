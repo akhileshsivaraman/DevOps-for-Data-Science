{
  "cells": [
    {
      "cell_type": "raw",
      "metadata": {},
      "source": [
        "---\n",
        "title: \"Model\"\n",
        "format: \n",
        "  html:\n",
        "    code-fold: true\n",
        "---"
      ],
      "id": "553a4a7d"
    },
    {
      "cell_type": "code",
      "metadata": {},
      "source": [
        "from palmerpenguins import penguins\n",
        "from pandas import get_dummies\n",
        "import numpy as np\n",
        "from sklearn.linear_model import LinearRegression\n",
        "from sklearn import preprocessing"
      ],
      "id": "d9876bd7",
      "execution_count": null,
      "outputs": []
    },
    {
      "cell_type": "markdown",
      "metadata": {},
      "source": [
        "## Get Data\n"
      ],
      "id": "b17e2e8b"
    },
    {
      "cell_type": "code",
      "metadata": {},
      "source": [
        "# df = penguins.load_penguins().dropna() - instead of loading the data from the palmer penguins module, we can load it from the duck db we have created\n",
        "\n",
        "import duckdb\n",
        "\n",
        "con = duckdb.connect(\"my-db.duckdb\")\n",
        "df = con.execute(\"SELECT * FROM penguins\").fetchdf().dropna()\n",
        "con.close()\n",
        "\n",
        "df.head(3)"
      ],
      "id": "dde84c81",
      "execution_count": null,
      "outputs": []
    },
    {
      "cell_type": "markdown",
      "metadata": {},
      "source": [
        "## Define Model and Fit\n"
      ],
      "id": "d586596f"
    },
    {
      "cell_type": "code",
      "metadata": {},
      "source": [
        "X = get_dummies(df[['bill_length_mm', 'species', 'sex']], drop_first = True)\n",
        "y = df['body_mass_g']\n",
        "\n",
        "model = LinearRegression().fit(X, y)"
      ],
      "id": "7797e62e",
      "execution_count": null,
      "outputs": []
    },
    {
      "cell_type": "markdown",
      "metadata": {},
      "source": [
        "## Get some information\n"
      ],
      "id": "dc6efc94"
    },
    {
      "cell_type": "code",
      "metadata": {},
      "source": [
        "print(f\"R^2 {model.score(X,y)}\")\n",
        "print(f\"Intercept {model.intercept_}\")\n",
        "print(f\"Columns {X.columns}\")\n",
        "print(f\"Coefficients {model.coef_}\")"
      ],
      "id": "40b0ebf1",
      "execution_count": null,
      "outputs": []
    },
    {
      "cell_type": "markdown",
      "metadata": {},
      "source": [
        "## Save the model so it can be placed outside the bundle"
      ],
      "id": "c5e138c2"
    },
    {
      "cell_type": "code",
      "metadata": {},
      "source": [
        "# take processing function/business logic out of the presentation layer\n",
        "\n",
        "# create VetiverModel class object\n",
        "from vetiver import VetiverModel\n",
        "v = VetiverModel(model, model_name = \"penguin_model\", prototype_data = X)\n",
        "# model = a trained model\n",
        "# model_name = a name you want to assign to the model\n",
        "# prototype_data = a sample of the data\n",
        "\n",
        "\n",
        "# save model\n",
        "from pins import board_folder\n",
        "from vetiver import vetiver_pin_write\n",
        "model_board = board_folder(\"data/model/\", allow_pickle_read = True) # use a local folder as a board\n",
        "vetiver_pin_write(model_board, v) # write the model into a board"
      ],
      "id": "a37793d0",
      "execution_count": null,
      "outputs": []
    },
    {
      "cell_type": "markdown",
      "metadata": {},
      "source": [
        "## Create an API for model predictions"
      ],
      "id": "f8c0e82c"
    },
    {
      "cell_type": "code",
      "metadata": {},
      "source": [
        "# open model if needed\n",
        "# b = board_folder(\"data/model\", allow_pickle_read = True)\n",
        "# v = VetiverModel.from_pin(b, \"penguin_model\")\n",
        "\n",
        "# auto-generate a fastAPI from the model\n",
        "from vetiver import VetiverAPI\n",
        "app = VetiverAPI(v, check_prototype = True)\n",
        "\n",
        "# run app\n",
        "app.run(port = 8080) # view API with http://localhost:8080"
      ],
      "id": "e84b7dd5",
      "execution_count": null,
      "outputs": []
    }
  ],
  "metadata": {
    "kernelspec": {
      "name": "python3",
      "language": "python",
      "display_name": "Python 3 (ipykernel)"
    }
  },
  "nbformat": 4,
  "nbformat_minor": 5
}