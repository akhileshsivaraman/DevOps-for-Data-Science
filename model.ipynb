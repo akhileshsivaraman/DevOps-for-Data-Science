{
  "cells": [
    {
      "cell_type": "raw",
      "metadata": {},
      "source": [
        "---\n",
        "title: \"Model\"\n",
        "format: \n",
        "  html:\n",
        "    code-fold: true\n",
        "---"
      ],
      "id": "17b5c268"
    },
    {
      "cell_type": "code",
      "metadata": {},
      "source": [
        "from palmerpenguins import penguins\n",
        "from pandas import get_dummies\n",
        "import numpy as np\n",
        "from sklearn.linear_model import LinearRegression\n",
        "from sklearn import preprocessing"
      ],
      "id": "9401414d",
      "execution_count": null,
      "outputs": []
    },
    {
      "cell_type": "markdown",
      "metadata": {},
      "source": [
        "## Get Data\n"
      ],
      "id": "81f7643c"
    },
    {
      "cell_type": "code",
      "metadata": {},
      "source": [
        "df = penguins.load_penguins().dropna()\n",
        "\n",
        "df.head(3)"
      ],
      "id": "3d201095",
      "execution_count": null,
      "outputs": []
    },
    {
      "cell_type": "markdown",
      "metadata": {},
      "source": [
        "## Define Model and Fit\n"
      ],
      "id": "70614708"
    },
    {
      "cell_type": "code",
      "metadata": {},
      "source": [
        "X = get_dummies(df[['bill_length_mm', 'species', 'sex']], drop_first = True)\n",
        "y = df['body_mass_g']\n",
        "\n",
        "model = LinearRegression().fit(X, y)"
      ],
      "id": "98ee48b5",
      "execution_count": null,
      "outputs": []
    },
    {
      "cell_type": "markdown",
      "metadata": {},
      "source": [
        "## Get some information\n"
      ],
      "id": "a4188920"
    },
    {
      "cell_type": "code",
      "metadata": {},
      "source": [
        "print(f\"R^2 {model.score(X,y)}\")\n",
        "print(f\"Intercept {model.intercept_}\")\n",
        "print(f\"Columns {X.columns}\")\n",
        "print(f\"Coefficients {model.coef_}\")"
      ],
      "id": "992e5a93",
      "execution_count": null,
      "outputs": []
    },
    {
      "cell_type": "markdown",
      "metadata": {},
      "source": [
        "## Save the model so it can be placed outside the bundle"
      ],
      "id": "a0761d40"
    },
    {
      "cell_type": "code",
      "metadata": {},
      "source": [
        "# take processing/business logic out of the presentation layer\n",
        "\n",
        "# create VetiverModel class object\n",
        "from vetiver import VetiverModel\n",
        "v = VetiverModel(model, model_name = \"penguin_model\", prototype_data = X)\n",
        "# model = a trained model\n",
        "# model_name = a name you want to assign to the model\n",
        "# prototype_data = a sample of the data\n",
        "\n",
        "\n",
        "# save model\n",
        "from pins import board_folder\n",
        "from vetiver import vetiver_pin_write\n",
        "model_board = board_folder(\"data/model/\", allow_pickle_read = True) # use a local folder as a board\n",
        "vetiver_pin_write(model_board, v) # write the model into a board"
      ],
      "id": "5ba0f7ac",
      "execution_count": null,
      "outputs": []
    },
    {
      "cell_type": "markdown",
      "metadata": {},
      "source": [
        "## Create an API for model predictions"
      ],
      "id": "fc2a723b"
    },
    {
      "cell_type": "code",
      "metadata": {},
      "source": [
        "# open model if needed\n",
        "# b = board_folder(\"data/model\", allow_pickle_read = True)\n",
        "# v = VetiverModel.from_pin(b, \"penguin_model\")\n",
        "\n",
        "# auto-generate a fastAPI from the model\n",
        "from vetiver import VetiverAPI\n",
        "app = VetiverAPI(v, check_prototype = True)\n",
        "\n",
        "# run app\n",
        "# app.run(port = 8080) # view API with http://localhost:8080"
      ],
      "id": "d51d12b4",
      "execution_count": null,
      "outputs": []
    }
  ],
  "metadata": {
    "kernelspec": {
      "name": "python3",
      "language": "python",
      "display_name": "Python 3 (ipykernel)"
    }
  },
  "nbformat": 4,
  "nbformat_minor": 5
}